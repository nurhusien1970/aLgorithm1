{
 "cells": [
  {
   "cell_type": "code",
   "execution_count": 1,
   "id": "04977cd7",
   "metadata": {
    "_cell_guid": "b1076dfc-b9ad-4769-8c92-a6c4dae69d19",
    "_uuid": "8f2839f25d086af736a60e9eeb907d3b93b6e0e5",
    "execution": {
     "iopub.execute_input": "2023-05-16T01:51:45.684899Z",
     "iopub.status.busy": "2023-05-16T01:51:45.684345Z",
     "iopub.status.idle": "2023-05-16T01:51:47.710589Z",
     "shell.execute_reply": "2023-05-16T01:51:47.709283Z"
    },
    "papermill": {
     "duration": 2.0508,
     "end_time": "2023-05-16T01:51:47.714060",
     "exception": false,
     "start_time": "2023-05-16T01:51:45.663260",
     "status": "completed"
    },
    "tags": []
   },
   "outputs": [],
   "source": [
    "import os\n",
    "import tqdm\n",
    "import glob\n",
    "import numpy as np \n",
    "import matplotlib.pyplot as plt\n",
    "import pandas as pd\n",
    "import gc\n",
    "from sklearn.linear_model import LogisticRegression\n",
    "from sklearn.ensemble import RandomForestClassifier\n",
    "from sklearn.model_selection import train_test_split\n",
    "from sklearn.neural_network import MLPClassifier\n",
    "from sklearn.datasets import make_classification\n",
    "%matplotlib inline\n",
    "plt.style.use('bmh')\n",
    "import seaborn as sns"
   ]
  },
  {
   "cell_type": "code",
   "execution_count": 2,
   "id": "9e291595",
   "metadata": {
    "execution": {
     "iopub.execute_input": "2023-05-16T01:51:47.751171Z",
     "iopub.status.busy": "2023-05-16T01:51:47.750696Z",
     "iopub.status.idle": "2023-05-16T01:51:47.755638Z",
     "shell.execute_reply": "2023-05-16T01:51:47.754493Z"
    },
    "papermill": {
     "duration": 0.026945,
     "end_time": "2023-05-16T01:51:47.758457",
     "exception": false,
     "start_time": "2023-05-16T01:51:47.731512",
     "status": "completed"
    },
    "tags": []
   },
   "outputs": [],
   "source": [
    "# parent directory\n",
    "pdir = '/kaggle/input/tlvmc-parkinsons-freezing-gait-prediction'"
   ]
  },
  {
   "cell_type": "markdown",
   "id": "4ffb384e",
   "metadata": {
    "papermill": {
     "duration": 0.016722,
     "end_time": "2023-05-16T01:51:47.792505",
     "exception": false,
     "start_time": "2023-05-16T01:51:47.775783",
     "status": "completed"
    },
    "tags": []
   },
   "source": [
    "from xgboost import XGBClassifier\n",
    "from sklearn.preprocessing import LabelEncoder, MinMaxScaler\n",
    "from sklearn.metrics import confusion_matrix, precision_score, recall_score, f1_score\n",
    "import time\n",
    "import warnings\n",
    "warnings.filterwarnings(\"ignore\", category=DeprecationWarning)\n",
    "%matplotlib inline"
   ]
  },
  {
   "cell_type": "markdown",
   "id": "f93b7285",
   "metadata": {
    "papermill": {
     "duration": 0.017014,
     "end_time": "2023-05-16T01:51:47.827826",
     "exception": false,
     "start_time": "2023-05-16T01:51:47.810812",
     "status": "completed"
    },
    "tags": []
   },
   "source": [
    "# load meta data"
   ]
  },
  {
   "cell_type": "code",
   "execution_count": 3,
   "id": "e81c85be",
   "metadata": {
    "execution": {
     "iopub.execute_input": "2023-05-16T01:51:47.863992Z",
     "iopub.status.busy": "2023-05-16T01:51:47.863211Z",
     "iopub.status.idle": "2023-05-16T01:51:47.914643Z",
     "shell.execute_reply": "2023-05-16T01:51:47.913365Z"
    },
    "papermill": {
     "duration": 0.072657,
     "end_time": "2023-05-16T01:51:47.917400",
     "exception": false,
     "start_time": "2023-05-16T01:51:47.844743",
     "status": "completed"
    },
    "tags": []
   },
   "outputs": [
    {
     "data": {
      "text/html": [
       "<div>\n",
       "<style scoped>\n",
       "    .dataframe tbody tr th:only-of-type {\n",
       "        vertical-align: middle;\n",
       "    }\n",
       "\n",
       "    .dataframe tbody tr th {\n",
       "        vertical-align: top;\n",
       "    }\n",
       "\n",
       "    .dataframe thead th {\n",
       "        text-align: right;\n",
       "    }\n",
       "</style>\n",
       "<table border=\"1\" class=\"dataframe\">\n",
       "  <thead>\n",
       "    <tr style=\"text-align: right;\">\n",
       "      <th></th>\n",
       "      <th>Id</th>\n",
       "      <th>Subject</th>\n",
       "      <th>Visit</th>\n",
       "      <th>Medication</th>\n",
       "    </tr>\n",
       "  </thead>\n",
       "  <tbody>\n",
       "    <tr>\n",
       "      <th>0</th>\n",
       "      <td>02ab235146</td>\n",
       "      <td>e1f62e</td>\n",
       "      <td>2</td>\n",
       "      <td>on</td>\n",
       "    </tr>\n",
       "    <tr>\n",
       "      <th>1</th>\n",
       "      <td>02ea782681</td>\n",
       "      <td>ae2d35</td>\n",
       "      <td>2</td>\n",
       "      <td>on</td>\n",
       "    </tr>\n",
       "    <tr>\n",
       "      <th>2</th>\n",
       "      <td>06414383cf</td>\n",
       "      <td>8c1f5e</td>\n",
       "      <td>2</td>\n",
       "      <td>off</td>\n",
       "    </tr>\n",
       "    <tr>\n",
       "      <th>3</th>\n",
       "      <td>092b4c1819</td>\n",
       "      <td>2874c5</td>\n",
       "      <td>1</td>\n",
       "      <td>off</td>\n",
       "    </tr>\n",
       "    <tr>\n",
       "      <th>4</th>\n",
       "      <td>0a900ed8a2</td>\n",
       "      <td>0e3d49</td>\n",
       "      <td>2</td>\n",
       "      <td>on</td>\n",
       "    </tr>\n",
       "  </tbody>\n",
       "</table>\n",
       "</div>"
      ],
      "text/plain": [
       "           Id Subject  Visit Medication\n",
       "0  02ab235146  e1f62e      2         on\n",
       "1  02ea782681  ae2d35      2         on\n",
       "2  06414383cf  8c1f5e      2        off\n",
       "3  092b4c1819  2874c5      1        off\n",
       "4  0a900ed8a2  0e3d49      2         on"
      ]
     },
     "execution_count": 3,
     "metadata": {},
     "output_type": "execute_result"
    }
   ],
   "source": [
    "df_tdcs_meta = pd.read_csv(os.path.join(pdir, 'tdcsfog_metadata.csv'))\n",
    "#shape 833,5\n",
    "#df_tdcs_meta.shape\n",
    "\n",
    "#df_tdcs_meta.isna().sum(), no missing, 833#\n",
    "#pd.unique(df[['Col1', 'Col2']].values.ravel('K')) or np.unique(df[['Col1', 'Col2']].values)-slower or df.nunique()\n",
    "#df_tdcs_meta.groupby(['Subject']).mean().plot.hist()\n",
    "#df_tdcs_meta.groupby(['Id']).nunique()\n",
    "#df_tdcs_meta.groupby(['Subject']).nunique().plot.hist()\n",
    "df_defog_meta = pd.read_csv(os.path.join(pdir, 'defog_metadata.csv'))\n",
    "#df_defog_meta.shape\n",
    "#(137, 4)\n",
    "#print(type(df_defog_meta))\n",
    "#df_defog_meta.groupby(['Subject']).mean().shape\n",
    "#df_tdcs_meta.head()\n",
    "df_defog_meta.head()"
   ]
  },
  {
   "cell_type": "code",
   "execution_count": 4,
   "id": "10cee8e8",
   "metadata": {
    "execution": {
     "iopub.execute_input": "2023-05-16T01:51:47.954695Z",
     "iopub.status.busy": "2023-05-16T01:51:47.953632Z",
     "iopub.status.idle": "2023-05-16T01:51:47.959495Z",
     "shell.execute_reply": "2023-05-16T01:51:47.958046Z"
    },
    "papermill": {
     "duration": 0.027605,
     "end_time": "2023-05-16T01:51:47.962280",
     "exception": false,
     "start_time": "2023-05-16T01:51:47.934675",
     "status": "completed"
    },
    "tags": []
   },
   "outputs": [],
   "source": [
    "#subject.nunique=62 num =833 s\n",
    "#temp0=df_tdcs_meta['Subject']\n",
    "#.nunique()\n",
    "#temp0=temp0.tolist()\n",
    "#lent=len(temp0)\n",
    "#temp0=set(temp0)\n",
    "#temp0\n",
    "#subject.nunique=45 numb =137\n",
    "#tempd=df_defog_meta['Subject']\n",
    "#tempd"
   ]
  },
  {
   "cell_type": "code",
   "execution_count": 5,
   "id": "0a4f0d29",
   "metadata": {
    "execution": {
     "iopub.execute_input": "2023-05-16T01:51:48.000479Z",
     "iopub.status.busy": "2023-05-16T01:51:47.999256Z",
     "iopub.status.idle": "2023-05-16T01:51:48.004494Z",
     "shell.execute_reply": "2023-05-16T01:51:48.003354Z"
    },
    "papermill": {
     "duration": 0.027052,
     "end_time": "2023-05-16T01:51:48.007024",
     "exception": false,
     "start_time": "2023-05-16T01:51:47.979972",
     "status": "completed"
    },
    "tags": []
   },
   "outputs": [],
   "source": [
    "#df_tdcs_meta.groupby(['Id']).nunique()\n",
    "#un = df_tdcs_meta.groupby(['Subject']).nunique()\n",
    "\n"
   ]
  },
  {
   "cell_type": "markdown",
   "id": "9b39095c",
   "metadata": {
    "papermill": {
     "duration": 0.016769,
     "end_time": "2023-05-16T01:51:48.041006",
     "exception": false,
     "start_time": "2023-05-16T01:51:48.024237",
     "status": "completed"
    },
    "tags": []
   },
   "source": [
    "There are no NAN values (missing) as all features/columns have 833 count."
   ]
  },
  {
   "cell_type": "code",
   "execution_count": 6,
   "id": "24c45143",
   "metadata": {
    "_kg_hide-input": true,
    "_kg_hide-output": true,
    "execution": {
     "iopub.execute_input": "2023-05-16T01:51:48.077893Z",
     "iopub.status.busy": "2023-05-16T01:51:48.077057Z",
     "iopub.status.idle": "2023-05-16T01:51:48.082005Z",
     "shell.execute_reply": "2023-05-16T01:51:48.081074Z"
    },
    "papermill": {
     "duration": 0.026143,
     "end_time": "2023-05-16T01:51:48.084505",
     "exception": false,
     "start_time": "2023-05-16T01:51:48.058362",
     "status": "completed"
    },
    "tags": []
   },
   "outputs": [],
   "source": [
    "#print(df_tdcs_meta[\"Visit\"].describe())\n",
    "# plt.figure(figsize=(5,4))\n",
    "# sns.displot(df_tdcs_meta['Visit'],  kde=True,\n",
    "#     stat=\"density\", color='g', bins=100, kde_kws= dict(cut=3), alpha=0.4);\n",
    "# df_num = df_tdcs_meta.select_dtypes(include = ['float64', 'int64'])\n",
    "# df_num.head()\n",
    "# df_num.hist(figsize=(16,20), bins=50,xlabelsize=8, ylabelsize=8);"
   ]
  },
  {
   "cell_type": "code",
   "execution_count": 7,
   "id": "5234cc01",
   "metadata": {
    "execution": {
     "iopub.execute_input": "2023-05-16T01:51:48.121463Z",
     "iopub.status.busy": "2023-05-16T01:51:48.121021Z",
     "iopub.status.idle": "2023-05-16T01:51:48.126330Z",
     "shell.execute_reply": "2023-05-16T01:51:48.125050Z"
    },
    "papermill": {
     "duration": 0.026758,
     "end_time": "2023-05-16T01:51:48.128817",
     "exception": false,
     "start_time": "2023-05-16T01:51:48.102059",
     "status": "completed"
    },
    "tags": []
   },
   "outputs": [],
   "source": [
    "# print(df_tdcs_meta[\"Medication\"].describe())\n",
    "# plt.figure(figsize=(9,8))\n",
    "# sns.displot(df_tdcs_meta['Medication'],  kde=True,\n",
    "#     stat=\"density\", color='g', bins=100, kde_kws= dict(cut=3), alpha=0.4);\n",
    "# plt.figure(figsize=(3,2))\n",
    "# sns.displot(df_tdcs_meta['Visit'],  kde=True,\n",
    "#     stat=\"density\", color='g', bins=100, kde_kws= dict(cut=3), alpha=0.4);"
   ]
  },
  {
   "cell_type": "code",
   "execution_count": 8,
   "id": "88693bda",
   "metadata": {
    "execution": {
     "iopub.execute_input": "2023-05-16T01:51:48.165966Z",
     "iopub.status.busy": "2023-05-16T01:51:48.165061Z",
     "iopub.status.idle": "2023-05-16T01:51:48.171187Z",
     "shell.execute_reply": "2023-05-16T01:51:48.169585Z"
    },
    "papermill": {
     "duration": 0.027749,
     "end_time": "2023-05-16T01:51:48.173852",
     "exception": false,
     "start_time": "2023-05-16T01:51:48.146103",
     "status": "completed"
    },
    "tags": []
   },
   "outputs": [],
   "source": [
    "# print(df_tdcs_meta[\"Visit\"].describe())\n",
    "# plt.figure(figsize=(9,8))\n",
    "# sns.displot(df_tdcs_meta['Visit'],  kde=True,\n",
    "#     stat=\"density\", color='g', bins=100, kde_kws= dict(cut=3), alpha=0.4);\n",
    "\n",
    "# plt.figure(figsize=(9,8))\n",
    "# sns.displot(df_tdcs_meta['Visit'],  kde=True,\n",
    "#     stat=\"density\", color='g', bins=100, kde_kws= dict(cut=3), alpha=0.4);"
   ]
  },
  {
   "cell_type": "markdown",
   "id": "163ce451",
   "metadata": {
    "papermill": {
     "duration": 0.018155,
     "end_time": "2023-05-16T01:51:48.209893",
     "exception": false,
     "start_time": "2023-05-16T01:51:48.191738",
     "status": "completed"
    },
    "tags": []
   },
   "source": []
  },
  {
   "cell_type": "code",
   "execution_count": null,
   "id": "bce15b4b",
   "metadata": {
    "papermill": {
     "duration": 0.016825,
     "end_time": "2023-05-16T01:51:48.244594",
     "exception": false,
     "start_time": "2023-05-16T01:51:48.227769",
     "status": "completed"
    },
    "tags": []
   },
   "outputs": [],
   "source": []
  },
  {
   "cell_type": "code",
   "execution_count": 9,
   "id": "d9edc69b",
   "metadata": {
    "execution": {
     "iopub.execute_input": "2023-05-16T01:51:48.281076Z",
     "iopub.status.busy": "2023-05-16T01:51:48.280570Z",
     "iopub.status.idle": "2023-05-16T01:51:48.305144Z",
     "shell.execute_reply": "2023-05-16T01:51:48.304019Z"
    },
    "papermill": {
     "duration": 0.045969,
     "end_time": "2023-05-16T01:51:48.307766",
     "exception": false,
     "start_time": "2023-05-16T01:51:48.261797",
     "status": "completed"
    },
    "tags": []
   },
   "outputs": [
    {
     "data": {
      "text/html": [
       "<div>\n",
       "<style scoped>\n",
       "    .dataframe tbody tr th:only-of-type {\n",
       "        vertical-align: middle;\n",
       "    }\n",
       "\n",
       "    .dataframe tbody tr th {\n",
       "        vertical-align: top;\n",
       "    }\n",
       "\n",
       "    .dataframe thead th {\n",
       "        text-align: right;\n",
       "    }\n",
       "</style>\n",
       "<table border=\"1\" class=\"dataframe\">\n",
       "  <thead>\n",
       "    <tr style=\"text-align: right;\">\n",
       "      <th></th>\n",
       "      <th>Subject</th>\n",
       "      <th>Visit</th>\n",
       "      <th>Age</th>\n",
       "      <th>Sex</th>\n",
       "      <th>YearsSinceDx</th>\n",
       "      <th>UPDRSIII_On</th>\n",
       "      <th>UPDRSIII_Off</th>\n",
       "      <th>NFOGQ</th>\n",
       "    </tr>\n",
       "  </thead>\n",
       "  <tbody>\n",
       "    <tr>\n",
       "      <th>0</th>\n",
       "      <td>00f674</td>\n",
       "      <td>2.0</td>\n",
       "      <td>63</td>\n",
       "      <td>M</td>\n",
       "      <td>27.0</td>\n",
       "      <td>43.0</td>\n",
       "      <td>49.0</td>\n",
       "      <td>24</td>\n",
       "    </tr>\n",
       "    <tr>\n",
       "      <th>1</th>\n",
       "      <td>00f674</td>\n",
       "      <td>1.0</td>\n",
       "      <td>63</td>\n",
       "      <td>M</td>\n",
       "      <td>27.0</td>\n",
       "      <td>31.0</td>\n",
       "      <td>30.0</td>\n",
       "      <td>26</td>\n",
       "    </tr>\n",
       "    <tr>\n",
       "      <th>2</th>\n",
       "      <td>02bc69</td>\n",
       "      <td>NaN</td>\n",
       "      <td>69</td>\n",
       "      <td>M</td>\n",
       "      <td>4.0</td>\n",
       "      <td>21.0</td>\n",
       "      <td>NaN</td>\n",
       "      <td>22</td>\n",
       "    </tr>\n",
       "    <tr>\n",
       "      <th>3</th>\n",
       "      <td>040587</td>\n",
       "      <td>2.0</td>\n",
       "      <td>75</td>\n",
       "      <td>M</td>\n",
       "      <td>26.0</td>\n",
       "      <td>52.0</td>\n",
       "      <td>69.0</td>\n",
       "      <td>21</td>\n",
       "    </tr>\n",
       "    <tr>\n",
       "      <th>4</th>\n",
       "      <td>040587</td>\n",
       "      <td>1.0</td>\n",
       "      <td>75</td>\n",
       "      <td>M</td>\n",
       "      <td>26.0</td>\n",
       "      <td>47.0</td>\n",
       "      <td>75.0</td>\n",
       "      <td>24</td>\n",
       "    </tr>\n",
       "  </tbody>\n",
       "</table>\n",
       "</div>"
      ],
      "text/plain": [
       "  Subject  Visit  Age Sex  YearsSinceDx  UPDRSIII_On  UPDRSIII_Off  NFOGQ\n",
       "0  00f674    2.0   63   M          27.0         43.0          49.0     24\n",
       "1  00f674    1.0   63   M          27.0         31.0          30.0     26\n",
       "2  02bc69    NaN   69   M           4.0         21.0           NaN     22\n",
       "3  040587    2.0   75   M          26.0         52.0          69.0     21\n",
       "4  040587    1.0   75   M          26.0         47.0          75.0     24"
      ]
     },
     "execution_count": 9,
     "metadata": {},
     "output_type": "execute_result"
    }
   ],
   "source": [
    "df_subjects = pd.read_csv(os.path.join(pdir, 'subjects.csv'))\n",
    "df_subjects.head()\n",
    "# df_subjects.shape\n",
    "# df_subjects.groupby(['Subject']).mean().info()\n",
    "# #df_subjects.info()\n",
    "#un1 = df_subjects['Subject'].nunique() #136\n"
   ]
  },
  {
   "cell_type": "code",
   "execution_count": 10,
   "id": "e15266f4",
   "metadata": {
    "execution": {
     "iopub.execute_input": "2023-05-16T01:51:48.345000Z",
     "iopub.status.busy": "2023-05-16T01:51:48.344234Z",
     "iopub.status.idle": "2023-05-16T01:51:48.349175Z",
     "shell.execute_reply": "2023-05-16T01:51:48.348201Z"
    },
    "papermill": {
     "duration": 0.02646,
     "end_time": "2023-05-16T01:51:48.351648",
     "exception": false,
     "start_time": "2023-05-16T01:51:48.325188",
     "status": "completed"
    },
    "tags": []
   },
   "outputs": [],
   "source": [
    "#df_subjects.isna().sum()\n",
    "#df_subjects.info()\n",
    "#df_subjects.groupby(['Subject']).nunique()\n",
    "#temp=df_subjects['Subject']\n",
    "#temp=(temp.tolist())\n",
    "#x=len(temp)\n",
    "#print(lent-x)\n",
    "#temp=set(temp)\n",
    "#temp-temp0"
   ]
  },
  {
   "cell_type": "code",
   "execution_count": 11,
   "id": "96919ba6",
   "metadata": {
    "execution": {
     "iopub.execute_input": "2023-05-16T01:51:48.389096Z",
     "iopub.status.busy": "2023-05-16T01:51:48.388347Z",
     "iopub.status.idle": "2023-05-16T01:51:48.393164Z",
     "shell.execute_reply": "2023-05-16T01:51:48.391944Z"
    },
    "papermill": {
     "duration": 0.026904,
     "end_time": "2023-05-16T01:51:48.396120",
     "exception": false,
     "start_time": "2023-05-16T01:51:48.369216",
     "status": "completed"
    },
    "tags": []
   },
   "outputs": [],
   "source": [
    "#df_subjects.describe()"
   ]
  },
  {
   "cell_type": "markdown",
   "id": "67300225",
   "metadata": {
    "papermill": {
     "duration": 0.017343,
     "end_time": "2023-05-16T01:51:48.433805",
     "exception": false,
     "start_time": "2023-05-16T01:51:48.416462",
     "status": "completed"
    },
    "tags": []
   },
   "source": [
    "# Load tdcsfog data"
   ]
  },
  {
   "cell_type": "code",
   "execution_count": 12,
   "id": "a1cfe5de",
   "metadata": {
    "execution": {
     "iopub.execute_input": "2023-05-16T01:51:48.470521Z",
     "iopub.status.busy": "2023-05-16T01:51:48.470113Z",
     "iopub.status.idle": "2023-05-16T01:51:48.705925Z",
     "shell.execute_reply": "2023-05-16T01:51:48.704320Z"
    },
    "papermill": {
     "duration": 0.257962,
     "end_time": "2023-05-16T01:51:48.709282",
     "exception": false,
     "start_time": "2023-05-16T01:51:48.451320",
     "status": "completed"
    },
    "tags": []
   },
   "outputs": [
    {
     "name": "stdout",
     "output_type": "stream",
     "text": [
      "the number of files to be read: 17\n"
     ]
    }
   ],
   "source": [
    "# list of all tdcsfog csv file path\n",
    "tdcs_file_path = glob.glob(os.path.join(pdir, 'train', 'tdcsfog', '*.csv'), recursive=True)\n",
    "\n",
    "# In this notebook, we limit the number of files to be read in order to reduce the time required for model training.\n",
    "tdcs_file_path = tdcs_file_path[::50]\n",
    "\n",
    "print(f'the number of files to be read: {len(tdcs_file_path)}')"
   ]
  },
  {
   "cell_type": "markdown",
   "id": "642e383b",
   "metadata": {
    "papermill": {
     "duration": 0.017277,
     "end_time": "2023-05-16T01:51:48.744143",
     "exception": false,
     "start_time": "2023-05-16T01:51:48.726866",
     "status": "completed"
    },
    "tags": []
   },
   "source": []
  },
  {
   "cell_type": "code",
   "execution_count": 13,
   "id": "9cf66f6c",
   "metadata": {
    "execution": {
     "iopub.execute_input": "2023-05-16T01:51:48.782359Z",
     "iopub.status.busy": "2023-05-16T01:51:48.781667Z",
     "iopub.status.idle": "2023-05-16T01:51:49.550518Z",
     "shell.execute_reply": "2023-05-16T01:51:49.549363Z"
    },
    "papermill": {
     "duration": 0.791926,
     "end_time": "2023-05-16T01:51:49.553608",
     "exception": false,
     "start_time": "2023-05-16T01:51:48.761682",
     "status": "completed"
    },
    "tags": []
   },
   "outputs": [
    {
     "name": "stderr",
     "output_type": "stream",
     "text": [
      "100%|██████████| 17/17 [00:00<00:00, 22.69it/s]\n"
     ]
    }
   ],
   "source": [
    "# Initialize a DataFrame to combine data from multiple CSV files.\n",
    "df_tdcs = pd.DataFrame()\n",
    "#print(df_tdcs)\n",
    "\n",
    "# load tdcsfog time series in combination with metadata.\n",
    "for fp in tqdm.tqdm(tdcs_file_path):    \n",
    "    \n",
    "    # load data into a variable 'tmp'.\n",
    "    tmp = pd.read_csv(fp)\n",
    "    #print(tmp)\n",
    "    #break\n",
    "    \n",
    "    # get file Id from csv file name.\n",
    "    file_id = os.path.basename(fp).replace(\".csv\", \"\")\n",
    "    \n",
    "    # get subject Id.\n",
    "    subject = df_tdcs_meta.loc[df_tdcs_meta['Id'] == file_id, 'Subject'].iloc[0]\n",
    "    \n",
    "    \n",
    "    # add metadata.\n",
    "    tmp['Medication'] = df_tdcs_meta.loc[df_tdcs_meta['Id'] == file_id, 'Medication'].iloc[0]\n",
    "    tmp['Age'] = df_subjects.loc[df_subjects['Subject'] == subject, 'Age'].iloc[0]\n",
    "    tmp['Sex'] = df_subjects.loc[df_subjects['Subject'] == subject, 'Sex'].iloc[0]\n",
    "    tmp['YearsSinceDx'] = df_subjects.loc[df_subjects['Subject'] == subject, 'YearsSinceDx'].iloc[0]\n",
    "    tmp['NFOGQ'] = df_subjects.loc[df_subjects['Subject'] == subject, 'NFOGQ'].iloc[0]\n",
    "    tmp['UPDRSIII_Off'] = df_subjects.loc[df_subjects['Subject'] == subject, 'UPDRSIII_Off'].iloc[0]\n",
    "    tmp['UPDRSIII_On'] = df_subjects.loc[df_subjects['Subject'] == subject, 'UPDRSIII_On'].iloc[0]\n",
    "    # concat the data\n",
    "    df_tdcs = pd.concat([df_tdcs, tmp]).reset_index(drop=True)\n",
    "#     print(df_tdcs)\n",
    "#     break\n",
    "#df_tdcs.isna().sum() UPDRSIII_Off=22080\n",
    "#df_tdcs[['Time', 'AccV']]"
   ]
  },
  {
   "cell_type": "code",
   "execution_count": 14,
   "id": "dd62452a",
   "metadata": {
    "execution": {
     "iopub.execute_input": "2023-05-16T01:51:49.593762Z",
     "iopub.status.busy": "2023-05-16T01:51:49.593319Z",
     "iopub.status.idle": "2023-05-16T01:51:49.598922Z",
     "shell.execute_reply": "2023-05-16T01:51:49.597947Z"
    },
    "papermill": {
     "duration": 0.028828,
     "end_time": "2023-05-16T01:51:49.601441",
     "exception": false,
     "start_time": "2023-05-16T01:51:49.572613",
     "status": "completed"
    },
    "tags": []
   },
   "outputs": [],
   "source": [
    "# check the contents of the df_tdcs\n",
    "# df_tdcs.head()\n",
    "# df_tdcs.info()\n",
    "#df_tdcs.shape\n",
    "#df_tdcs.isna().sum(), UPDRSIII_Off=1435832, UPDRSIII_on=186621\n",
    "#at 50, 17 files =shape(105537, 14), at 25 (230908, 14) at 0 7062672,14)\n",
    "#df_tdcs.columns\n",
    "#df_tdcs.groupby('Medication')[['UPDRSIII_Off', 'UPDRSIII_On']].mean().plot()\n",
    "#x=df_tdcs[['Medication','UPDRSIII_Off']]\n",
    "#x.describe()\n",
    "#df_tdcs[['Medication','UPDRSIII_On']].describe\n",
    "#df_tdcs['UPDRSIII_Off'].info()\n",
    "#df_tdcs['UPDRSIII_On'].info()\n",
    "#df_tdcs['UPDRSIII_On'].hist()\n",
    "\n",
    "#plot.scatter('Medication', 'UPDRSIII_Off')"
   ]
  },
  {
   "cell_type": "markdown",
   "id": "dfa4cdfc",
   "metadata": {
    "papermill": {
     "duration": 0.018305,
     "end_time": "2023-05-16T01:51:49.638875",
     "exception": false,
     "start_time": "2023-05-16T01:51:49.620570",
     "status": "completed"
    },
    "tags": []
   },
   "source": []
  },
  {
   "cell_type": "markdown",
   "id": "8c33873d",
   "metadata": {
    "papermill": {
     "duration": 0.018304,
     "end_time": "2023-05-16T01:51:49.675856",
     "exception": false,
     "start_time": "2023-05-16T01:51:49.657552",
     "status": "completed"
    },
    "tags": []
   },
   "source": [
    "# Load defog data"
   ]
  },
  {
   "cell_type": "code",
   "execution_count": 15,
   "id": "c0ef0adb",
   "metadata": {
    "execution": {
     "iopub.execute_input": "2023-05-16T01:51:49.715856Z",
     "iopub.status.busy": "2023-05-16T01:51:49.715439Z",
     "iopub.status.idle": "2023-05-16T01:51:49.734025Z",
     "shell.execute_reply": "2023-05-16T01:51:49.732728Z"
    },
    "papermill": {
     "duration": 0.04188,
     "end_time": "2023-05-16T01:51:49.736497",
     "exception": false,
     "start_time": "2023-05-16T01:51:49.694617",
     "status": "completed"
    },
    "tags": []
   },
   "outputs": [
    {
     "name": "stdout",
     "output_type": "stream",
     "text": [
      "the number of files to be read: 2\n"
     ]
    }
   ],
   "source": [
    "# list of all tdcsfog csv file path\n",
    "defog_file_path = glob.glob(os.path.join(pdir, 'train', 'defog', '*.csv'), recursive=True)\n",
    "\n",
    "# In this notebook, we limit the number of files to be read in order to reduce the time required for model training.\n",
    "defog_file_path = defog_file_path[::50]\n",
    "\n",
    "print(f'the number of files to be read: {len(defog_file_path)}')"
   ]
  },
  {
   "cell_type": "code",
   "execution_count": 16,
   "id": "755fcf92",
   "metadata": {
    "execution": {
     "iopub.execute_input": "2023-05-16T01:51:49.775751Z",
     "iopub.status.busy": "2023-05-16T01:51:49.775338Z",
     "iopub.status.idle": "2023-05-16T01:51:50.530203Z",
     "shell.execute_reply": "2023-05-16T01:51:50.528813Z"
    },
    "papermill": {
     "duration": 0.77797,
     "end_time": "2023-05-16T01:51:50.533117",
     "exception": false,
     "start_time": "2023-05-16T01:51:49.755147",
     "status": "completed"
    },
    "tags": []
   },
   "outputs": [
    {
     "name": "stderr",
     "output_type": "stream",
     "text": [
      "100%|██████████| 2/2 [00:00<00:00,  2.72it/s]\n"
     ]
    }
   ],
   "source": [
    "# Initialize a DataFrame to combine data from multiple CSV files.\n",
    "df_defog = pd.DataFrame()\n",
    "\n",
    "for fp in tqdm.tqdm(defog_file_path):\n",
    "    # load data into a variable 'tmp'.\n",
    "    tmp = pd.read_csv(fp)\n",
    "    \n",
    "    # get file Id from csv file name.\n",
    "    file_id = os.path.basename(fp).replace(\".csv\", \"\")\n",
    "    \n",
    "    # get subject Id.\n",
    "    subject = df_defog_meta.loc[df_defog_meta['Id'] == file_id, 'Subject'].iloc[0]\n",
    "    \n",
    "    # add metadata.\n",
    "    tmp['Medication'] = df_defog_meta.loc[df_defog_meta['Id'] == file_id, 'Medication'].iloc[0]\n",
    "    tmp['Age'] = df_subjects.loc[df_subjects['Subject'] == subject, 'Age'].iloc[0]\n",
    "    tmp['Sex'] = df_subjects.loc[df_subjects['Subject'] == subject, 'Sex'].iloc[0]\n",
    "    tmp['YearsSinceDx'] = df_subjects.loc[df_subjects['Subject'] == subject, 'YearsSinceDx'].iloc[0]\n",
    "    tmp['NFOGQ'] =df_subjects.loc[df_subjects['Subject'] == subject, 'NFOGQ'].iloc[0]\n",
    "    tmp['UPDRSIII_Off'] = df_subjects.loc[df_subjects['Subject'] == subject, 'UPDRSIII_Off'].iloc[0]\n",
    "    tmp['UPDRSIII_On'] = df_subjects.loc[df_subjects['Subject'] == subject, 'UPDRSIII_On'].iloc[0]\n",
    "    # extract data from the time period where Valid and Task are both True.\n",
    "    tmp = tmp[(tmp['Valid'] == True) & (tmp['Task']==True)]\n",
    "    tmp = tmp.drop(['Valid', 'Task'], axis=1)\n",
    "    \n",
    "    # concat the data\n",
    "    df_defog = pd.concat([df_defog, tmp]).reset_index(drop=True)\n",
    "    del tmp\n",
    "    gc.collect()"
   ]
  },
  {
   "cell_type": "code",
   "execution_count": 17,
   "id": "70d68b26",
   "metadata": {
    "execution": {
     "iopub.execute_input": "2023-05-16T01:51:50.572898Z",
     "iopub.status.busy": "2023-05-16T01:51:50.572139Z",
     "iopub.status.idle": "2023-05-16T01:51:50.576955Z",
     "shell.execute_reply": "2023-05-16T01:51:50.576048Z"
    },
    "papermill": {
     "duration": 0.027347,
     "end_time": "2023-05-16T01:51:50.579225",
     "exception": false,
     "start_time": "2023-05-16T01:51:50.551878",
     "status": "completed"
    },
    "tags": []
   },
   "outputs": [],
   "source": [
    "# check the contents of the df_defog\n",
    "#df_defog.shape\n",
    "# at 50 (55399, 14) at 0 step (4090530, 14)\n",
    "#df_defog[['Time','AccV']].isna().sum() 0"
   ]
  },
  {
   "cell_type": "code",
   "execution_count": 18,
   "id": "d3f548f5",
   "metadata": {
    "execution": {
     "iopub.execute_input": "2023-05-16T01:51:50.619745Z",
     "iopub.status.busy": "2023-05-16T01:51:50.618976Z",
     "iopub.status.idle": "2023-05-16T01:51:50.623877Z",
     "shell.execute_reply": "2023-05-16T01:51:50.622438Z"
    },
    "papermill": {
     "duration": 0.028715,
     "end_time": "2023-05-16T01:51:50.626671",
     "exception": false,
     "start_time": "2023-05-16T01:51:50.597956",
     "status": "completed"
    },
    "tags": []
   },
   "outputs": [],
   "source": [
    "#df_defog.isna().sum() no na"
   ]
  },
  {
   "cell_type": "markdown",
   "id": "af64803f",
   "metadata": {
    "papermill": {
     "duration": 0.018709,
     "end_time": "2023-05-16T01:51:50.664532",
     "exception": false,
     "start_time": "2023-05-16T01:51:50.645823",
     "status": "completed"
    },
    "tags": []
   },
   "source": [
    "# Prepare train data"
   ]
  },
  {
   "cell_type": "code",
   "execution_count": 19,
   "id": "eb5723bc",
   "metadata": {
    "execution": {
     "iopub.execute_input": "2023-05-16T01:51:50.704818Z",
     "iopub.status.busy": "2023-05-16T01:51:50.704358Z",
     "iopub.status.idle": "2023-05-16T01:51:50.764323Z",
     "shell.execute_reply": "2023-05-16T01:51:50.762853Z"
    },
    "papermill": {
     "duration": 0.083317,
     "end_time": "2023-05-16T01:51:50.767309",
     "exception": false,
     "start_time": "2023-05-16T01:51:50.683992",
     "status": "completed"
    },
    "tags": []
   },
   "outputs": [],
   "source": [
    "# concat tdcs and defog data.\n",
    "df_train = pd.concat([df_tdcs, df_defog]).reset_index(drop=True)\n",
    "#df_train.head()\n",
    "#df_train.hist(figsize=(16, 20), bins=50, xlabelsize=8, ylabelsize=8)\n"
   ]
  },
  {
   "cell_type": "code",
   "execution_count": 20,
   "id": "77f25d5b",
   "metadata": {
    "execution": {
     "iopub.execute_input": "2023-05-16T01:51:50.806980Z",
     "iopub.status.busy": "2023-05-16T01:51:50.806527Z",
     "iopub.status.idle": "2023-05-16T01:51:50.871051Z",
     "shell.execute_reply": "2023-05-16T01:51:50.869749Z"
    },
    "papermill": {
     "duration": 0.087908,
     "end_time": "2023-05-16T01:51:50.874076",
     "exception": false,
     "start_time": "2023-05-16T01:51:50.786168",
     "status": "completed"
    },
    "tags": []
   },
   "outputs": [],
   "source": [
    "df_train['Medication'] = np.where(df_train['Medication']=='on', 1, 0)\n",
    "df_train['Sex'] = np.where(df_train['Sex']=='M', 1, 0)\n",
    "#df_train.head()"
   ]
  },
  {
   "cell_type": "code",
   "execution_count": 21,
   "id": "f32f7ab4",
   "metadata": {
    "execution": {
     "iopub.execute_input": "2023-05-16T01:51:50.914652Z",
     "iopub.status.busy": "2023-05-16T01:51:50.913777Z",
     "iopub.status.idle": "2023-05-16T01:51:50.918852Z",
     "shell.execute_reply": "2023-05-16T01:51:50.917337Z"
    },
    "papermill": {
     "duration": 0.028519,
     "end_time": "2023-05-16T01:51:50.921694",
     "exception": false,
     "start_time": "2023-05-16T01:51:50.893175",
     "status": "completed"
    },
    "tags": []
   },
   "outputs": [],
   "source": [
    "#df_train.columns\n"
   ]
  },
  {
   "cell_type": "code",
   "execution_count": 22,
   "id": "9998b878",
   "metadata": {
    "execution": {
     "iopub.execute_input": "2023-05-16T01:51:50.961742Z",
     "iopub.status.busy": "2023-05-16T01:51:50.960998Z",
     "iopub.status.idle": "2023-05-16T01:51:51.136957Z",
     "shell.execute_reply": "2023-05-16T01:51:51.135733Z"
    },
    "papermill": {
     "duration": 0.199214,
     "end_time": "2023-05-16T01:51:51.139907",
     "exception": false,
     "start_time": "2023-05-16T01:51:50.940693",
     "status": "completed"
    },
    "tags": []
   },
   "outputs": [
    {
     "data": {
      "text/plain": [
       "126"
      ]
     },
     "execution_count": 22,
     "metadata": {},
     "output_type": "execute_result"
    }
   ],
   "source": [
    "# split data into features and target.\n",
    "df_train['Medication'] = np.where(df_train['Medication']=='on', 1, 0)\n",
    "df_train['Sex'] = np.where(df_train['Sex']=='M', 1, 0)\n",
    "y = df_train[['StartHesitation', 'Turn', 'Walking']]                       # target\n",
    "X = df_train.drop(['StartHesitation', 'Turn', 'Walking'], axis=1)  # feature\n",
    "X.interpolate()\n",
    "\n",
    "del df_train\n",
    "gc.collect()\n"
   ]
  },
  {
   "cell_type": "code",
   "execution_count": 23,
   "id": "2232a816",
   "metadata": {
    "execution": {
     "iopub.execute_input": "2023-05-16T01:51:51.180509Z",
     "iopub.status.busy": "2023-05-16T01:51:51.180092Z",
     "iopub.status.idle": "2023-05-16T01:51:51.188369Z",
     "shell.execute_reply": "2023-05-16T01:51:51.187094Z"
    },
    "papermill": {
     "duration": 0.03176,
     "end_time": "2023-05-16T01:51:51.191087",
     "exception": false,
     "start_time": "2023-05-16T01:51:51.159327",
     "status": "completed"
    },
    "tags": []
   },
   "outputs": [
    {
     "data": {
      "text/plain": [
       "(160936, 11)"
      ]
     },
     "execution_count": 23,
     "metadata": {},
     "output_type": "execute_result"
    }
   ],
   "source": [
    "# check the contents of the target\n",
    "#y.head()\n",
    "X.shape"
   ]
  },
  {
   "cell_type": "code",
   "execution_count": 24,
   "id": "e8ffe8e6",
   "metadata": {
    "execution": {
     "iopub.execute_input": "2023-05-16T01:51:51.231616Z",
     "iopub.status.busy": "2023-05-16T01:51:51.231177Z",
     "iopub.status.idle": "2023-05-16T01:51:51.236554Z",
     "shell.execute_reply": "2023-05-16T01:51:51.235319Z"
    },
    "papermill": {
     "duration": 0.028911,
     "end_time": "2023-05-16T01:51:51.239361",
     "exception": false,
     "start_time": "2023-05-16T01:51:51.210450",
     "status": "completed"
    },
    "tags": []
   },
   "outputs": [],
   "source": [
    "# check the contents of the feature\n"
   ]
  },
  {
   "cell_type": "markdown",
   "id": "d1100e56",
   "metadata": {
    "papermill": {
     "duration": 0.019187,
     "end_time": "2023-05-16T01:51:51.278668",
     "exception": false,
     "start_time": "2023-05-16T01:51:51.259481",
     "status": "completed"
    },
    "tags": []
   },
   "source": [
    "# Train RandomForestClassifier"
   ]
  },
  {
   "cell_type": "markdown",
   "id": "10431f2a",
   "metadata": {
    "papermill": {
     "duration": 0.018866,
     "end_time": "2023-05-16T01:51:51.316657",
     "exception": false,
     "start_time": "2023-05-16T01:51:51.297791",
     "status": "completed"
    },
    "tags": []
   },
   "source": [
    "Change to xBoost"
   ]
  },
  {
   "cell_type": "markdown",
   "id": "1f87c0e2",
   "metadata": {
    "papermill": {
     "duration": 0.019116,
     "end_time": "2023-05-16T01:51:51.355102",
     "exception": false,
     "start_time": "2023-05-16T01:51:51.335986",
     "status": "completed"
    },
    "tags": []
   },
   "source": []
  },
  {
   "cell_type": "code",
   "execution_count": 25,
   "id": "4f7d4969",
   "metadata": {
    "execution": {
     "iopub.execute_input": "2023-05-16T01:51:51.395500Z",
     "iopub.status.busy": "2023-05-16T01:51:51.394702Z",
     "iopub.status.idle": "2023-05-16T01:51:51.537559Z",
     "shell.execute_reply": "2023-05-16T01:51:51.536263Z"
    },
    "papermill": {
     "duration": 0.166233,
     "end_time": "2023-05-16T01:51:51.540503",
     "exception": false,
     "start_time": "2023-05-16T01:51:51.374270",
     "status": "completed"
    },
    "tags": []
   },
   "outputs": [],
   "source": [
    "from sklearn.preprocessing import MaxAbsScaler\n",
    "#scaler_gnb = MaxAbsScaler()\n",
    "from sklearn.decomposition import PCA\n",
    "from xgboost import XGBClassifier\n",
    "from sklearn.preprocessing import LabelEncoder, MinMaxScaler\n",
    "from sklearn.metrics import confusion_matrix, precision_score, recall_score, f1_score\n",
    "import time\n",
    "import warnings\n",
    "warnings.filterwarnings(\"ignore\", category=DeprecationWarning)\n",
    "%matplotlib inline\n",
    "\n",
    "\n",
    "scaler = MinMaxScaler()\n",
    "sdss = scaler.fit_transform(X)\n"
   ]
  },
  {
   "cell_type": "code",
   "execution_count": 26,
   "id": "712ccfbb",
   "metadata": {
    "execution": {
     "iopub.execute_input": "2023-05-16T01:51:51.580663Z",
     "iopub.status.busy": "2023-05-16T01:51:51.580214Z",
     "iopub.status.idle": "2023-05-16T01:51:51.587222Z",
     "shell.execute_reply": "2023-05-16T01:51:51.586300Z"
    },
    "papermill": {
     "duration": 0.029925,
     "end_time": "2023-05-16T01:51:51.589671",
     "exception": false,
     "start_time": "2023-05-16T01:51:51.559746",
     "status": "completed"
    },
    "tags": []
   },
   "outputs": [],
   "source": [
    "#rf= RandomForestClassifier()\n",
    "\n",
    "# from sklearn.impute import SimpleImputer\n",
    "# my_imputer = SimpleImputer()\n",
    "# data_with_imputed_values = my_imputer.fit_transform(D)\n",
    "\n",
    "# mlp= MLPClassifier(max_iter=2000, hidden_layer_sizes=(100,1000), alpha=1e-4,activation ='relu' ,  solver='adam', random_state=3)\n",
    "# #X.isnull().sum()\n",
    "# #y.isnull().sum()\n",
    "# mlp.fit(X,y)\n",
    "# print(\"accuracy\", mlp.score(X,y))\n",
    "# del mlp\n",
    "# gc.collect()"
   ]
  },
  {
   "cell_type": "code",
   "execution_count": 27,
   "id": "be68c71b",
   "metadata": {
    "execution": {
     "iopub.execute_input": "2023-05-16T01:51:51.630337Z",
     "iopub.status.busy": "2023-05-16T01:51:51.629216Z",
     "iopub.status.idle": "2023-05-16T01:52:09.079899Z",
     "shell.execute_reply": "2023-05-16T01:52:09.078852Z"
    },
    "papermill": {
     "duration": 17.474144,
     "end_time": "2023-05-16T01:52:09.082863",
     "exception": false,
     "start_time": "2023-05-16T01:51:51.608719",
     "status": "completed"
    },
    "tags": []
   },
   "outputs": [],
   "source": [
    "xgb = XGBClassifier(n_estimators=100)\n",
    "training_start = time.perf_counter()\n",
    "xgb.fit(X, y)\n",
    "training_end = time.perf_counter()\n"
   ]
  },
  {
   "cell_type": "markdown",
   "id": "d95c05f2",
   "metadata": {
    "papermill": {
     "duration": 0.018601,
     "end_time": "2023-05-16T01:52:09.121660",
     "exception": false,
     "start_time": "2023-05-16T01:52:09.103059",
     "status": "completed"
    },
    "tags": []
   },
   "source": [
    "# Prepare test data\n",
    "\n",
    "## Process the test data in the same way as the training data"
   ]
  },
  {
   "cell_type": "code",
   "execution_count": 28,
   "id": "7483ca34",
   "metadata": {
    "execution": {
     "iopub.execute_input": "2023-05-16T01:52:09.162115Z",
     "iopub.status.busy": "2023-05-16T01:52:09.161645Z",
     "iopub.status.idle": "2023-05-16T01:52:09.173840Z",
     "shell.execute_reply": "2023-05-16T01:52:09.172389Z"
    },
    "papermill": {
     "duration": 0.036163,
     "end_time": "2023-05-16T01:52:09.176951",
     "exception": false,
     "start_time": "2023-05-16T01:52:09.140788",
     "status": "completed"
    },
    "tags": []
   },
   "outputs": [
    {
     "name": "stdout",
     "output_type": "stream",
     "text": [
      "the number of files to be read: 1\n"
     ]
    }
   ],
   "source": [
    "# list of all tdcsfog csv file path\n",
    "tdcs_test_file_path = glob.glob(os.path.join(pdir, 'test', 'tdcsfog', '*.csv'), recursive=True)\n",
    "print(f'the number of files to be read: {len(tdcs_test_file_path)}')"
   ]
  },
  {
   "cell_type": "code",
   "execution_count": 29,
   "id": "b6f4b682",
   "metadata": {
    "execution": {
     "iopub.execute_input": "2023-05-16T01:52:09.218343Z",
     "iopub.status.busy": "2023-05-16T01:52:09.217885Z",
     "iopub.status.idle": "2023-05-16T01:52:09.389602Z",
     "shell.execute_reply": "2023-05-16T01:52:09.388004Z"
    },
    "papermill": {
     "duration": 0.195894,
     "end_time": "2023-05-16T01:52:09.392488",
     "exception": false,
     "start_time": "2023-05-16T01:52:09.196594",
     "status": "completed"
    },
    "tags": []
   },
   "outputs": [
    {
     "name": "stderr",
     "output_type": "stream",
     "text": [
      "100%|██████████| 1/1 [00:00<00:00,  6.52it/s]\n"
     ]
    }
   ],
   "source": [
    "# Initialize a DataFrame to combine data from multiple CSV files.\n",
    "df_tdcs_test = pd.DataFrame()\n",
    "\n",
    "for fp in tqdm.tqdm(tdcs_test_file_path):\n",
    "    \n",
    "    # load data into a variable 'tmp'.\n",
    "    tmp = pd.read_csv(fp)\n",
    "    \n",
    "    # get file Id from csv file name.\n",
    "    file_id = os.path.basename(fp).replace(\".csv\", \"\")\n",
    "    \n",
    "    # get subject Id.\n",
    "    subject = df_tdcs_meta.loc[df_tdcs_meta['Id'] == file_id, 'Subject'].iloc[0]\n",
    "    \n",
    "    # add metadata.\n",
    "    tmp['Medication'] = df_tdcs_meta.loc[df_tdcs_meta['Id'] == file_id, 'Medication'].iloc[0]\n",
    "    tmp['Age'] = df_subjects.loc[df_subjects['Subject'] == subject, 'Age'].iloc[0]\n",
    "    tmp['Sex'] = df_subjects.loc[df_subjects['Subject'] == subject, 'Sex'].iloc[0]\n",
    "    tmp['YearsSinceDx'] = df_subjects.loc[df_subjects['Subject'] == subject, 'YearsSinceDx'].iloc[0]\n",
    "    tmp['NFOGQ'] = df_subjects.loc[df_subjects['Subject'] == subject, 'NFOGQ'].iloc[0]\n",
    "    \n",
    "    # add Id data to submit.\n",
    "    tmp['Id'] = file_id + '_' + tmp['Time'].astype(str)\n",
    "    \n",
    "    # concat the data\n",
    "    df_tdcs_test = pd.concat([df_tdcs_test, tmp]).reset_index(drop=True)\n",
    "    del tmp\n",
    "    gc.collect()"
   ]
  },
  {
   "cell_type": "code",
   "execution_count": 30,
   "id": "6dc7b049",
   "metadata": {
    "execution": {
     "iopub.execute_input": "2023-05-16T01:52:09.434108Z",
     "iopub.status.busy": "2023-05-16T01:52:09.433656Z",
     "iopub.status.idle": "2023-05-16T01:52:09.438725Z",
     "shell.execute_reply": "2023-05-16T01:52:09.437387Z"
    },
    "papermill": {
     "duration": 0.029309,
     "end_time": "2023-05-16T01:52:09.441385",
     "exception": false,
     "start_time": "2023-05-16T01:52:09.412076",
     "status": "completed"
    },
    "tags": []
   },
   "outputs": [],
   "source": [
    "# check the contents of the df_tdcs_test\n",
    "#df_tdcs_test.head()"
   ]
  },
  {
   "cell_type": "code",
   "execution_count": 31,
   "id": "bb003193",
   "metadata": {
    "execution": {
     "iopub.execute_input": "2023-05-16T01:52:09.483139Z",
     "iopub.status.busy": "2023-05-16T01:52:09.482684Z",
     "iopub.status.idle": "2023-05-16T01:52:09.493113Z",
     "shell.execute_reply": "2023-05-16T01:52:09.491918Z"
    },
    "papermill": {
     "duration": 0.034365,
     "end_time": "2023-05-16T01:52:09.495725",
     "exception": false,
     "start_time": "2023-05-16T01:52:09.461360",
     "status": "completed"
    },
    "tags": []
   },
   "outputs": [
    {
     "name": "stdout",
     "output_type": "stream",
     "text": [
      "the number of files to be read: 1\n"
     ]
    }
   ],
   "source": [
    "# list of all tdcsfog csv file path\n",
    "defog_test_file_path = glob.glob(os.path.join(pdir, 'test', 'defog', '*.csv'), recursive=True)\n",
    "print(f'the number of files to be read: {len(defog_test_file_path)}')"
   ]
  },
  {
   "cell_type": "code",
   "execution_count": 32,
   "id": "e2673458",
   "metadata": {
    "execution": {
     "iopub.execute_input": "2023-05-16T01:52:09.537440Z",
     "iopub.status.busy": "2023-05-16T01:52:09.536466Z",
     "iopub.status.idle": "2023-05-16T01:52:10.533945Z",
     "shell.execute_reply": "2023-05-16T01:52:10.532272Z"
    },
    "papermill": {
     "duration": 1.021431,
     "end_time": "2023-05-16T01:52:10.536845",
     "exception": false,
     "start_time": "2023-05-16T01:52:09.515414",
     "status": "completed"
    },
    "tags": []
   },
   "outputs": [
    {
     "name": "stderr",
     "output_type": "stream",
     "text": [
      "100%|██████████| 1/1 [00:00<00:00,  1.02it/s]\n"
     ]
    }
   ],
   "source": [
    "# Initialize a DataFrame to combine data from multiple CSV files.\n",
    "df_defog_test = pd.DataFrame()\n",
    "\n",
    "for fp in tqdm.tqdm(defog_test_file_path):\n",
    "    # load data into a variable 'tmp'.\n",
    "    tmp = pd.read_csv(fp)\n",
    "    \n",
    "    # get file Id from csv file name.\n",
    "    file_id = os.path.basename(fp).replace(\".csv\", \"\")\n",
    "    \n",
    "    # get subject Id.\n",
    "    subject = df_defog_meta.loc[df_defog_meta['Id'] == file_id, 'Subject'].iloc[0]\n",
    "    \n",
    "    # add metadata.\n",
    "    tmp['Medication'] = df_defog_meta.loc[df_defog_meta['Id'] == file_id, 'Medication'].iloc[0]\n",
    "    tmp['Age'] = df_subjects.loc[df_subjects['Subject'] == subject, 'Age'].iloc[0]\n",
    "    tmp['Sex'] = df_subjects.loc[df_subjects['Subject'] == subject, 'Sex'].iloc[0]\n",
    "    tmp['YearsSinceDx'] = df_subjects.loc[df_subjects['Subject'] == subject, 'YearsSinceDx'].iloc[0]\n",
    "    tmp['NFOGQ'] =df_subjects.loc[df_subjects['Subject'] == subject, 'NFOGQ'].iloc[0]\n",
    "    tmp['UPDRSIII_Off'] = df_subjects.loc[df_subjects['Subject'] == subject, 'UPDRSIII_Off'].iloc[0]\n",
    "    tmp['UPDRSIII_On'] = df_subjects.loc[df_subjects['Subject'] == subject, 'UPDRSIII_On'].iloc[0]\n",
    "    # add Id data to submit.\n",
    "    tmp['Id'] = file_id + '_' + tmp['Time'].astype(str)\n",
    "    \n",
    "    # concat the data\n",
    "    df_defog_test = pd.concat([df_defog_test, tmp]).reset_index(drop=True)\n",
    "    "
   ]
  },
  {
   "cell_type": "code",
   "execution_count": 33,
   "id": "50212d31",
   "metadata": {
    "execution": {
     "iopub.execute_input": "2023-05-16T01:52:10.581010Z",
     "iopub.status.busy": "2023-05-16T01:52:10.579644Z",
     "iopub.status.idle": "2023-05-16T01:52:10.603548Z",
     "shell.execute_reply": "2023-05-16T01:52:10.602097Z"
    },
    "papermill": {
     "duration": 0.049785,
     "end_time": "2023-05-16T01:52:10.606588",
     "exception": false,
     "start_time": "2023-05-16T01:52:10.556803",
     "status": "completed"
    },
    "tags": []
   },
   "outputs": [
    {
     "data": {
      "text/html": [
       "<div>\n",
       "<style scoped>\n",
       "    .dataframe tbody tr th:only-of-type {\n",
       "        vertical-align: middle;\n",
       "    }\n",
       "\n",
       "    .dataframe tbody tr th {\n",
       "        vertical-align: top;\n",
       "    }\n",
       "\n",
       "    .dataframe thead th {\n",
       "        text-align: right;\n",
       "    }\n",
       "</style>\n",
       "<table border=\"1\" class=\"dataframe\">\n",
       "  <thead>\n",
       "    <tr style=\"text-align: right;\">\n",
       "      <th></th>\n",
       "      <th>Time</th>\n",
       "      <th>AccV</th>\n",
       "      <th>AccML</th>\n",
       "      <th>AccAP</th>\n",
       "      <th>Medication</th>\n",
       "      <th>Age</th>\n",
       "      <th>Sex</th>\n",
       "      <th>YearsSinceDx</th>\n",
       "      <th>NFOGQ</th>\n",
       "      <th>UPDRSIII_Off</th>\n",
       "      <th>UPDRSIII_On</th>\n",
       "      <th>Id</th>\n",
       "    </tr>\n",
       "  </thead>\n",
       "  <tbody>\n",
       "    <tr>\n",
       "      <th>0</th>\n",
       "      <td>0</td>\n",
       "      <td>-0.914652</td>\n",
       "      <td>-0.300851</td>\n",
       "      <td>0.298156</td>\n",
       "      <td>on</td>\n",
       "      <td>79</td>\n",
       "      <td>F</td>\n",
       "      <td>8.0</td>\n",
       "      <td>28</td>\n",
       "      <td>55.0</td>\n",
       "      <td>52.0</td>\n",
       "      <td>02ab235146_0</td>\n",
       "    </tr>\n",
       "    <tr>\n",
       "      <th>1</th>\n",
       "      <td>1</td>\n",
       "      <td>-0.914367</td>\n",
       "      <td>-0.301572</td>\n",
       "      <td>0.298325</td>\n",
       "      <td>on</td>\n",
       "      <td>79</td>\n",
       "      <td>F</td>\n",
       "      <td>8.0</td>\n",
       "      <td>28</td>\n",
       "      <td>55.0</td>\n",
       "      <td>52.0</td>\n",
       "      <td>02ab235146_1</td>\n",
       "    </tr>\n",
       "    <tr>\n",
       "      <th>2</th>\n",
       "      <td>2</td>\n",
       "      <td>-0.779540</td>\n",
       "      <td>-0.343197</td>\n",
       "      <td>0.275690</td>\n",
       "      <td>on</td>\n",
       "      <td>79</td>\n",
       "      <td>F</td>\n",
       "      <td>8.0</td>\n",
       "      <td>28</td>\n",
       "      <td>55.0</td>\n",
       "      <td>52.0</td>\n",
       "      <td>02ab235146_2</td>\n",
       "    </tr>\n",
       "    <tr>\n",
       "      <th>3</th>\n",
       "      <td>3</td>\n",
       "      <td>-0.993162</td>\n",
       "      <td>-0.270281</td>\n",
       "      <td>0.315775</td>\n",
       "      <td>on</td>\n",
       "      <td>79</td>\n",
       "      <td>F</td>\n",
       "      <td>8.0</td>\n",
       "      <td>28</td>\n",
       "      <td>55.0</td>\n",
       "      <td>52.0</td>\n",
       "      <td>02ab235146_3</td>\n",
       "    </tr>\n",
       "    <tr>\n",
       "      <th>4</th>\n",
       "      <td>4</td>\n",
       "      <td>-0.948767</td>\n",
       "      <td>-0.307849</td>\n",
       "      <td>0.297191</td>\n",
       "      <td>on</td>\n",
       "      <td>79</td>\n",
       "      <td>F</td>\n",
       "      <td>8.0</td>\n",
       "      <td>28</td>\n",
       "      <td>55.0</td>\n",
       "      <td>52.0</td>\n",
       "      <td>02ab235146_4</td>\n",
       "    </tr>\n",
       "  </tbody>\n",
       "</table>\n",
       "</div>"
      ],
      "text/plain": [
       "   Time      AccV     AccML     AccAP Medication  Age Sex  YearsSinceDx  \\\n",
       "0     0 -0.914652 -0.300851  0.298156         on   79   F           8.0   \n",
       "1     1 -0.914367 -0.301572  0.298325         on   79   F           8.0   \n",
       "2     2 -0.779540 -0.343197  0.275690         on   79   F           8.0   \n",
       "3     3 -0.993162 -0.270281  0.315775         on   79   F           8.0   \n",
       "4     4 -0.948767 -0.307849  0.297191         on   79   F           8.0   \n",
       "\n",
       "   NFOGQ  UPDRSIII_Off  UPDRSIII_On            Id  \n",
       "0     28          55.0         52.0  02ab235146_0  \n",
       "1     28          55.0         52.0  02ab235146_1  \n",
       "2     28          55.0         52.0  02ab235146_2  \n",
       "3     28          55.0         52.0  02ab235146_3  \n",
       "4     28          55.0         52.0  02ab235146_4  "
      ]
     },
     "execution_count": 33,
     "metadata": {},
     "output_type": "execute_result"
    }
   ],
   "source": [
    "# check the contents of the df_defog_test\n",
    "df_defog_test.head()"
   ]
  },
  {
   "cell_type": "code",
   "execution_count": 34,
   "id": "0040bf0b",
   "metadata": {
    "execution": {
     "iopub.execute_input": "2023-05-16T01:52:10.650188Z",
     "iopub.status.busy": "2023-05-16T01:52:10.648841Z",
     "iopub.status.idle": "2023-05-16T01:52:10.890269Z",
     "shell.execute_reply": "2023-05-16T01:52:10.889015Z"
    },
    "papermill": {
     "duration": 0.266004,
     "end_time": "2023-05-16T01:52:10.893134",
     "exception": false,
     "start_time": "2023-05-16T01:52:10.627130",
     "status": "completed"
    },
    "tags": []
   },
   "outputs": [
    {
     "data": {
      "text/html": [
       "<div>\n",
       "<style scoped>\n",
       "    .dataframe tbody tr th:only-of-type {\n",
       "        vertical-align: middle;\n",
       "    }\n",
       "\n",
       "    .dataframe tbody tr th {\n",
       "        vertical-align: top;\n",
       "    }\n",
       "\n",
       "    .dataframe thead th {\n",
       "        text-align: right;\n",
       "    }\n",
       "</style>\n",
       "<table border=\"1\" class=\"dataframe\">\n",
       "  <thead>\n",
       "    <tr style=\"text-align: right;\">\n",
       "      <th></th>\n",
       "      <th>Time</th>\n",
       "      <th>AccV</th>\n",
       "      <th>AccML</th>\n",
       "      <th>AccAP</th>\n",
       "      <th>Medication</th>\n",
       "      <th>Age</th>\n",
       "      <th>Sex</th>\n",
       "      <th>YearsSinceDx</th>\n",
       "      <th>NFOGQ</th>\n",
       "      <th>Id</th>\n",
       "      <th>UPDRSIII_Off</th>\n",
       "      <th>UPDRSIII_On</th>\n",
       "    </tr>\n",
       "  </thead>\n",
       "  <tbody>\n",
       "    <tr>\n",
       "      <th>0</th>\n",
       "      <td>0</td>\n",
       "      <td>-9.533939</td>\n",
       "      <td>0.566322</td>\n",
       "      <td>-1.413525</td>\n",
       "      <td>1</td>\n",
       "      <td>68</td>\n",
       "      <td>0</td>\n",
       "      <td>9.0</td>\n",
       "      <td>15</td>\n",
       "      <td>003f117e14_0</td>\n",
       "      <td>NaN</td>\n",
       "      <td>NaN</td>\n",
       "    </tr>\n",
       "    <tr>\n",
       "      <th>1</th>\n",
       "      <td>1</td>\n",
       "      <td>-9.536140</td>\n",
       "      <td>0.564137</td>\n",
       "      <td>-1.440621</td>\n",
       "      <td>1</td>\n",
       "      <td>68</td>\n",
       "      <td>0</td>\n",
       "      <td>9.0</td>\n",
       "      <td>15</td>\n",
       "      <td>003f117e14_1</td>\n",
       "      <td>NaN</td>\n",
       "      <td>NaN</td>\n",
       "    </tr>\n",
       "    <tr>\n",
       "      <th>2</th>\n",
       "      <td>2</td>\n",
       "      <td>-9.529345</td>\n",
       "      <td>0.561765</td>\n",
       "      <td>-1.429332</td>\n",
       "      <td>1</td>\n",
       "      <td>68</td>\n",
       "      <td>0</td>\n",
       "      <td>9.0</td>\n",
       "      <td>15</td>\n",
       "      <td>003f117e14_2</td>\n",
       "      <td>NaN</td>\n",
       "      <td>NaN</td>\n",
       "    </tr>\n",
       "    <tr>\n",
       "      <th>3</th>\n",
       "      <td>3</td>\n",
       "      <td>-9.531239</td>\n",
       "      <td>0.564227</td>\n",
       "      <td>-1.415490</td>\n",
       "      <td>1</td>\n",
       "      <td>68</td>\n",
       "      <td>0</td>\n",
       "      <td>9.0</td>\n",
       "      <td>15</td>\n",
       "      <td>003f117e14_3</td>\n",
       "      <td>NaN</td>\n",
       "      <td>NaN</td>\n",
       "    </tr>\n",
       "    <tr>\n",
       "      <th>4</th>\n",
       "      <td>4</td>\n",
       "      <td>-9.540825</td>\n",
       "      <td>0.561854</td>\n",
       "      <td>-1.429471</td>\n",
       "      <td>1</td>\n",
       "      <td>68</td>\n",
       "      <td>0</td>\n",
       "      <td>9.0</td>\n",
       "      <td>15</td>\n",
       "      <td>003f117e14_4</td>\n",
       "      <td>NaN</td>\n",
       "      <td>NaN</td>\n",
       "    </tr>\n",
       "    <tr>\n",
       "      <th>...</th>\n",
       "      <td>...</td>\n",
       "      <td>...</td>\n",
       "      <td>...</td>\n",
       "      <td>...</td>\n",
       "      <td>...</td>\n",
       "      <td>...</td>\n",
       "      <td>...</td>\n",
       "      <td>...</td>\n",
       "      <td>...</td>\n",
       "      <td>...</td>\n",
       "      <td>...</td>\n",
       "      <td>...</td>\n",
       "    </tr>\n",
       "    <tr>\n",
       "      <th>286365</th>\n",
       "      <td>281683</td>\n",
       "      <td>-0.899299</td>\n",
       "      <td>-0.232668</td>\n",
       "      <td>0.389147</td>\n",
       "      <td>1</td>\n",
       "      <td>79</td>\n",
       "      <td>0</td>\n",
       "      <td>8.0</td>\n",
       "      <td>28</td>\n",
       "      <td>02ab235146_281683</td>\n",
       "      <td>55.0</td>\n",
       "      <td>52.0</td>\n",
       "    </tr>\n",
       "    <tr>\n",
       "      <th>286366</th>\n",
       "      <td>281684</td>\n",
       "      <td>-0.901973</td>\n",
       "      <td>-0.233051</td>\n",
       "      <td>0.390114</td>\n",
       "      <td>1</td>\n",
       "      <td>79</td>\n",
       "      <td>0</td>\n",
       "      <td>8.0</td>\n",
       "      <td>28</td>\n",
       "      <td>02ab235146_281684</td>\n",
       "      <td>55.0</td>\n",
       "      <td>52.0</td>\n",
       "    </tr>\n",
       "    <tr>\n",
       "      <th>286367</th>\n",
       "      <td>281685</td>\n",
       "      <td>-0.901690</td>\n",
       "      <td>-0.231888</td>\n",
       "      <td>0.391896</td>\n",
       "      <td>1</td>\n",
       "      <td>79</td>\n",
       "      <td>0</td>\n",
       "      <td>8.0</td>\n",
       "      <td>28</td>\n",
       "      <td>02ab235146_281685</td>\n",
       "      <td>55.0</td>\n",
       "      <td>52.0</td>\n",
       "    </tr>\n",
       "    <tr>\n",
       "      <th>286368</th>\n",
       "      <td>281686</td>\n",
       "      <td>-0.899576</td>\n",
       "      <td>-0.232429</td>\n",
       "      <td>0.391106</td>\n",
       "      <td>1</td>\n",
       "      <td>79</td>\n",
       "      <td>0</td>\n",
       "      <td>8.0</td>\n",
       "      <td>28</td>\n",
       "      <td>02ab235146_281686</td>\n",
       "      <td>55.0</td>\n",
       "      <td>52.0</td>\n",
       "    </tr>\n",
       "    <tr>\n",
       "      <th>286369</th>\n",
       "      <td>281687</td>\n",
       "      <td>-0.900289</td>\n",
       "      <td>-0.232363</td>\n",
       "      <td>0.390735</td>\n",
       "      <td>1</td>\n",
       "      <td>79</td>\n",
       "      <td>0</td>\n",
       "      <td>8.0</td>\n",
       "      <td>28</td>\n",
       "      <td>02ab235146_281687</td>\n",
       "      <td>55.0</td>\n",
       "      <td>52.0</td>\n",
       "    </tr>\n",
       "  </tbody>\n",
       "</table>\n",
       "<p>286370 rows × 12 columns</p>\n",
       "</div>"
      ],
      "text/plain": [
       "          Time      AccV     AccML     AccAP  Medication  Age  Sex  \\\n",
       "0            0 -9.533939  0.566322 -1.413525           1   68    0   \n",
       "1            1 -9.536140  0.564137 -1.440621           1   68    0   \n",
       "2            2 -9.529345  0.561765 -1.429332           1   68    0   \n",
       "3            3 -9.531239  0.564227 -1.415490           1   68    0   \n",
       "4            4 -9.540825  0.561854 -1.429471           1   68    0   \n",
       "...        ...       ...       ...       ...         ...  ...  ...   \n",
       "286365  281683 -0.899299 -0.232668  0.389147           1   79    0   \n",
       "286366  281684 -0.901973 -0.233051  0.390114           1   79    0   \n",
       "286367  281685 -0.901690 -0.231888  0.391896           1   79    0   \n",
       "286368  281686 -0.899576 -0.232429  0.391106           1   79    0   \n",
       "286369  281687 -0.900289 -0.232363  0.390735           1   79    0   \n",
       "\n",
       "        YearsSinceDx  NFOGQ                 Id  UPDRSIII_Off  UPDRSIII_On  \n",
       "0                9.0     15       003f117e14_0           NaN          NaN  \n",
       "1                9.0     15       003f117e14_1           NaN          NaN  \n",
       "2                9.0     15       003f117e14_2           NaN          NaN  \n",
       "3                9.0     15       003f117e14_3           NaN          NaN  \n",
       "4                9.0     15       003f117e14_4           NaN          NaN  \n",
       "...              ...    ...                ...           ...          ...  \n",
       "286365           8.0     28  02ab235146_281683          55.0         52.0  \n",
       "286366           8.0     28  02ab235146_281684          55.0         52.0  \n",
       "286367           8.0     28  02ab235146_281685          55.0         52.0  \n",
       "286368           8.0     28  02ab235146_281686          55.0         52.0  \n",
       "286369           8.0     28  02ab235146_281687          55.0         52.0  \n",
       "\n",
       "[286370 rows x 12 columns]"
      ]
     },
     "metadata": {},
     "output_type": "display_data"
    }
   ],
   "source": [
    "# concat tdcs and defog data.\n",
    "df_test = pd.concat([df_tdcs_test, df_defog_test]).reset_index(drop=True)\n",
    "\n",
    "# encode string columns into 0/1 format\n",
    "df_test['Medication'] = np.where(df_test['Medication']=='on', 1, 0)\n",
    "df_test['Sex'] = np.where(df_test['Sex']=='M', 1, 0)\n",
    "display(df_test)"
   ]
  },
  {
   "cell_type": "markdown",
   "id": "7cb3deab",
   "metadata": {
    "papermill": {
     "duration": 0.020422,
     "end_time": "2023-05-16T01:52:10.934841",
     "exception": false,
     "start_time": "2023-05-16T01:52:10.914419",
     "status": "completed"
    },
    "tags": []
   },
   "source": []
  },
  {
   "cell_type": "code",
   "execution_count": 35,
   "id": "dbcf13b3",
   "metadata": {
    "execution": {
     "iopub.execute_input": "2023-05-16T01:52:10.980312Z",
     "iopub.status.busy": "2023-05-16T01:52:10.978838Z",
     "iopub.status.idle": "2023-05-16T01:52:10.996504Z",
     "shell.execute_reply": "2023-05-16T01:52:10.995146Z"
    },
    "papermill": {
     "duration": 0.043654,
     "end_time": "2023-05-16T01:52:10.999610",
     "exception": false,
     "start_time": "2023-05-16T01:52:10.955956",
     "status": "completed"
    },
    "tags": []
   },
   "outputs": [],
   "source": [
    "# split data into submission Id and feature.\n",
    "Id = df_test['Id']                             # Id for submission data\n",
    "                       \n",
    "X_test = df_test.drop(['Id'], axis=1)  # feature of test data\n",
    "\n",
    "#model = LogisticRegression()"
   ]
  },
  {
   "cell_type": "markdown",
   "id": "fb2511ad",
   "metadata": {
    "papermill": {
     "duration": 0.020568,
     "end_time": "2023-05-16T01:52:11.041338",
     "exception": false,
     "start_time": "2023-05-16T01:52:11.020770",
     "status": "completed"
    },
    "tags": []
   },
   "source": [
    "# Predict and submit"
   ]
  },
  {
   "cell_type": "code",
   "execution_count": 36,
   "id": "a710631e",
   "metadata": {
    "execution": {
     "iopub.execute_input": "2023-05-16T01:52:11.085883Z",
     "iopub.status.busy": "2023-05-16T01:52:11.085427Z",
     "iopub.status.idle": "2023-05-16T01:52:11.519022Z",
     "shell.execute_reply": "2023-05-16T01:52:11.518004Z"
    },
    "papermill": {
     "duration": 0.45925,
     "end_time": "2023-05-16T01:52:11.521914",
     "exception": false,
     "start_time": "2023-05-16T01:52:11.062664",
     "status": "completed"
    },
    "tags": []
   },
   "outputs": [
    {
     "name": "stdout",
     "output_type": "stream",
     "text": [
      "(286370, 11) (286370, 3)\n",
      "Time consumed for training: 17.444\n",
      "Time consumed for prediction: 0.42601 seconds\n"
     ]
    }
   ],
   "source": [
    "# calculate prediction using trained RandomForestClassifier model.\n",
    "#pred = rf.predict(X_test)\n",
    "\n",
    "# X_test.interpolate()\n",
    "\n",
    "\n",
    "\n",
    "prediction_start = time.perf_counter()\n",
    "pred2 = xgb.predict(X_test)\n",
    "prediction_end = time.perf_counter()\n",
    "#acc_xgb = (pred2 == X_test).sum().astype(float) / len(pred2)*100\n",
    "print(X_test.shape, pred2.shape)\n",
    "xgb_train_time = training_end-training_start\n",
    "xgb_prediction_time = prediction_end-prediction_start\n",
    "#print(\"XGBoost's prediction accuracy is: %3.2f\" % (acc_xgb))\n",
    "print(\"Time consumed for training: %4.3f\" % (xgb_train_time))\n",
    "print(\"Time consumed for prediction: %6.5f seconds\" % (xgb_prediction_time))\n"
   ]
  },
  {
   "cell_type": "code",
   "execution_count": 37,
   "id": "56675de3",
   "metadata": {
    "execution": {
     "iopub.execute_input": "2023-05-16T01:52:11.567217Z",
     "iopub.status.busy": "2023-05-16T01:52:11.566784Z",
     "iopub.status.idle": "2023-05-16T01:52:11.696191Z",
     "shell.execute_reply": "2023-05-16T01:52:11.694888Z"
    },
    "papermill": {
     "duration": 0.154584,
     "end_time": "2023-05-16T01:52:11.698925",
     "exception": false,
     "start_time": "2023-05-16T01:52:11.544341",
     "status": "completed"
    },
    "tags": []
   },
   "outputs": [
    {
     "data": {
      "text/plain": [
       "63"
      ]
     },
     "execution_count": 37,
     "metadata": {},
     "output_type": "execute_result"
    }
   ],
   "source": [
    "#print(rf.score(X_test, pred))\n",
    "#print(mlp.score(X_test, pred2))\n",
    "del X_test\n",
    "gc.collect()"
   ]
  },
  {
   "cell_type": "code",
   "execution_count": 38,
   "id": "2e1a00a3",
   "metadata": {
    "execution": {
     "iopub.execute_input": "2023-05-16T01:52:11.744012Z",
     "iopub.status.busy": "2023-05-16T01:52:11.742969Z",
     "iopub.status.idle": "2023-05-16T01:52:11.758524Z",
     "shell.execute_reply": "2023-05-16T01:52:11.757225Z"
    },
    "papermill": {
     "duration": 0.041463,
     "end_time": "2023-05-16T01:52:11.761736",
     "exception": false,
     "start_time": "2023-05-16T01:52:11.720273",
     "status": "completed"
    },
    "tags": []
   },
   "outputs": [],
   "source": [
    "# Prepare submit data\n",
    "submit = pd.DataFrame(Id, columns=['Id'])\n",
    "submit['StartHesitation'] = pred2[:, 0]\n",
    "submit['Turn'] = pred2[:, 1]\n",
    "submit['Walking'] = pred2[:, 2]"
   ]
  },
  {
   "cell_type": "code",
   "execution_count": 39,
   "id": "04d7df6f",
   "metadata": {
    "execution": {
     "iopub.execute_input": "2023-05-16T01:52:11.807837Z",
     "iopub.status.busy": "2023-05-16T01:52:11.806967Z",
     "iopub.status.idle": "2023-05-16T01:52:11.826976Z",
     "shell.execute_reply": "2023-05-16T01:52:11.825725Z"
    },
    "papermill": {
     "duration": 0.045201,
     "end_time": "2023-05-16T01:52:11.829500",
     "exception": false,
     "start_time": "2023-05-16T01:52:11.784299",
     "status": "completed"
    },
    "tags": []
   },
   "outputs": [
    {
     "data": {
      "text/html": [
       "<div>\n",
       "<style scoped>\n",
       "    .dataframe tbody tr th:only-of-type {\n",
       "        vertical-align: middle;\n",
       "    }\n",
       "\n",
       "    .dataframe tbody tr th {\n",
       "        vertical-align: top;\n",
       "    }\n",
       "\n",
       "    .dataframe thead th {\n",
       "        text-align: right;\n",
       "    }\n",
       "</style>\n",
       "<table border=\"1\" class=\"dataframe\">\n",
       "  <thead>\n",
       "    <tr style=\"text-align: right;\">\n",
       "      <th></th>\n",
       "      <th>Id</th>\n",
       "      <th>StartHesitation</th>\n",
       "      <th>Turn</th>\n",
       "      <th>Walking</th>\n",
       "    </tr>\n",
       "  </thead>\n",
       "  <tbody>\n",
       "    <tr>\n",
       "      <th>0</th>\n",
       "      <td>003f117e14_0</td>\n",
       "      <td>0.0</td>\n",
       "      <td>0.0</td>\n",
       "      <td>0.0</td>\n",
       "    </tr>\n",
       "    <tr>\n",
       "      <th>1</th>\n",
       "      <td>003f117e14_1</td>\n",
       "      <td>0.0</td>\n",
       "      <td>0.0</td>\n",
       "      <td>0.0</td>\n",
       "    </tr>\n",
       "    <tr>\n",
       "      <th>2</th>\n",
       "      <td>003f117e14_2</td>\n",
       "      <td>0.0</td>\n",
       "      <td>0.0</td>\n",
       "      <td>0.0</td>\n",
       "    </tr>\n",
       "    <tr>\n",
       "      <th>3</th>\n",
       "      <td>003f117e14_3</td>\n",
       "      <td>0.0</td>\n",
       "      <td>0.0</td>\n",
       "      <td>0.0</td>\n",
       "    </tr>\n",
       "    <tr>\n",
       "      <th>4</th>\n",
       "      <td>003f117e14_4</td>\n",
       "      <td>0.0</td>\n",
       "      <td>0.0</td>\n",
       "      <td>0.0</td>\n",
       "    </tr>\n",
       "    <tr>\n",
       "      <th>...</th>\n",
       "      <td>...</td>\n",
       "      <td>...</td>\n",
       "      <td>...</td>\n",
       "      <td>...</td>\n",
       "    </tr>\n",
       "    <tr>\n",
       "      <th>286365</th>\n",
       "      <td>02ab235146_281683</td>\n",
       "      <td>0.0</td>\n",
       "      <td>0.0</td>\n",
       "      <td>0.0</td>\n",
       "    </tr>\n",
       "    <tr>\n",
       "      <th>286366</th>\n",
       "      <td>02ab235146_281684</td>\n",
       "      <td>0.0</td>\n",
       "      <td>0.0</td>\n",
       "      <td>0.0</td>\n",
       "    </tr>\n",
       "    <tr>\n",
       "      <th>286367</th>\n",
       "      <td>02ab235146_281685</td>\n",
       "      <td>0.0</td>\n",
       "      <td>0.0</td>\n",
       "      <td>0.0</td>\n",
       "    </tr>\n",
       "    <tr>\n",
       "      <th>286368</th>\n",
       "      <td>02ab235146_281686</td>\n",
       "      <td>0.0</td>\n",
       "      <td>0.0</td>\n",
       "      <td>0.0</td>\n",
       "    </tr>\n",
       "    <tr>\n",
       "      <th>286369</th>\n",
       "      <td>02ab235146_281687</td>\n",
       "      <td>0.0</td>\n",
       "      <td>0.0</td>\n",
       "      <td>0.0</td>\n",
       "    </tr>\n",
       "  </tbody>\n",
       "</table>\n",
       "<p>286370 rows × 4 columns</p>\n",
       "</div>"
      ],
      "text/plain": [
       "                       Id  StartHesitation  Turn  Walking\n",
       "0            003f117e14_0              0.0   0.0      0.0\n",
       "1            003f117e14_1              0.0   0.0      0.0\n",
       "2            003f117e14_2              0.0   0.0      0.0\n",
       "3            003f117e14_3              0.0   0.0      0.0\n",
       "4            003f117e14_4              0.0   0.0      0.0\n",
       "...                   ...              ...   ...      ...\n",
       "286365  02ab235146_281683              0.0   0.0      0.0\n",
       "286366  02ab235146_281684              0.0   0.0      0.0\n",
       "286367  02ab235146_281685              0.0   0.0      0.0\n",
       "286368  02ab235146_281686              0.0   0.0      0.0\n",
       "286369  02ab235146_281687              0.0   0.0      0.0\n",
       "\n",
       "[286370 rows x 4 columns]"
      ]
     },
     "metadata": {},
     "output_type": "display_data"
    }
   ],
   "source": [
    "display(submit)"
   ]
  },
  {
   "cell_type": "code",
   "execution_count": 40,
   "id": "bf0fee4e",
   "metadata": {
    "execution": {
     "iopub.execute_input": "2023-05-16T01:52:11.875480Z",
     "iopub.status.busy": "2023-05-16T01:52:11.874655Z",
     "iopub.status.idle": "2023-05-16T01:52:13.013488Z",
     "shell.execute_reply": "2023-05-16T01:52:13.012307Z"
    },
    "papermill": {
     "duration": 1.165358,
     "end_time": "2023-05-16T01:52:13.016767",
     "exception": false,
     "start_time": "2023-05-16T01:52:11.851409",
     "status": "completed"
    },
    "tags": []
   },
   "outputs": [],
   "source": [
    "# Save the created submission data.\n",
    "submit.to_csv('submission.csv', index=False)"
   ]
  },
  {
   "cell_type": "markdown",
   "id": "8a9d65ff",
   "metadata": {
    "papermill": {
     "duration": 0.021134,
     "end_time": "2023-05-16T01:52:13.059986",
     "exception": false,
     "start_time": "2023-05-16T01:52:13.038852",
     "status": "completed"
    },
    "tags": []
   },
   "source": [
    "# <p style=\"font-size: 24px; font-weight: bold;\">Congratulations!</p>\n",
    "\n",
    "<p style=\"font-size: 16px;\">You're now ready to submit your work on Kaggle!</p>\n",
    "\n",
    "<p style=\"font-size: 16px;\">Enjoy your experience on Kaggle!</p>"
   ]
  }
 ],
 "metadata": {
  "kernelspec": {
   "display_name": "Python 3",
   "language": "python",
   "name": "python3"
  },
  "language_info": {
   "codemirror_mode": {
    "name": "ipython",
    "version": 3
   },
   "file_extension": ".py",
   "mimetype": "text/x-python",
   "name": "python",
   "nbconvert_exporter": "python",
   "pygments_lexer": "ipython3",
   "version": "3.7.12"
  },
  "papermill": {
   "default_parameters": {},
   "duration": 41.593187,
   "end_time": "2023-05-16T01:52:13.904315",
   "environment_variables": {},
   "exception": null,
   "input_path": "__notebook__.ipynb",
   "output_path": "__notebook__.ipynb",
   "parameters": {},
   "start_time": "2023-05-16T01:51:32.311128",
   "version": "2.4.0"
  }
 },
 "nbformat": 4,
 "nbformat_minor": 5
}
